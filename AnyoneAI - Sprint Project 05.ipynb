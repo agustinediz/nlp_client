{
  "cells": [
    {
      "attachments": {},
      "cell_type": "markdown",
      "metadata": {
        "id": "wycYqOwt_0KE"
      },
      "source": [
        "# Sentiment Analysis: Large Movie Review Dataset\n",
        "\n",
        "Hi again! You will be expected to finish this on your own, but you can use the available channels on Discord to ask questions and help others. Please read the entire notebook before starting, this will give you a better idea of what you need to accomplish.\n",
        "\n",
        "This project is related to NLP. As you may already know, the most important and hardest part of an NLP project is pre-processing, which is why we are going to focus on that.\n",
        "\n",
        "### Getting the data\n",
        "\n",
        "To access the data for this project, you only need to execute the code below. This will download three files:\n",
        "\n",
        "- `movies_review_train_aai.csv`: Training dataset you must use to train and find the best hyperparameters on your model.\n",
        "\n",
        "- `movies_review_test_aai.csv`: Test dataset to test your model.\n",
        "\n",
        "Basically a basic sentiment analysis problem, as in this case, consists of a classification problem, where the possible output labels are: `positive` and `negative`. Which indicates, if the review of a movie speaks positively or negatively. In our case it is a binary problem, but one could have many more \"feelings\" tagged and thus allow a more granular analysis.\n",
        "\n",
        "### These are the objectives of the project:\n",
        "\n",
        "* Read data that is not in a traditional format.\n",
        "* Put together a set of preprocessing functions that we can use later on any NLP or related problems.\n",
        "* Vectorize the data in order to apply a machine learning model to it: using BoW or TF-IDF.\n",
        "* BoW and TF-IDF are classic ways to vectorize text, but currently we have some more complex ways with better performance, for this we are going to train our own word embedding and use it as a vectorization source for our data.\n",
        "* Train a sentiment analysis model that allows us to detect positive and negative opinions in movie reviews."
      ]
    },
    {
      "attachments": {},
      "cell_type": "markdown",
      "metadata": {
        "id": "0oiYxBSs_0KH"
      },
      "source": [
        "---\n",
        "## 1. Get the data\n",
        "\n",
        "**Download the data by executing the code below:**\n",
        "\n",
        "`Notes:` Use the target column as `positive`, that way the positive value will be indicated with a value of `1` and negative with a value of `0`. In this case, a split train/test is not necessary because the original data is already separated."
      ]
    },
    {
      "attachments": {},
      "cell_type": "markdown",
      "metadata": {},
      "source": [
        "-----------------------------------------------------------------------------------------------------------------------------------------------------"
      ]
    },
    {
      "attachments": {},
      "cell_type": "markdown",
      "metadata": {},
      "source": [
        "##### Mounting in Google Colab to use the free GPU power!"
      ]
    },
    {
      "cell_type": "code",
      "execution_count": 2,
      "metadata": {
        "colab": {
          "base_uri": "https://localhost:8080/"
        },
        "id": "IRC0BPYxB9o6",
        "outputId": "ada003bd-1ba6-4100-cef4-d8d7217c7e27"
      },
      "outputs": [
        {
          "data": {
            "text/plain": [
              "True"
            ]
          },
          "execution_count": 2,
          "metadata": {},
          "output_type": "execute_result"
        }
      ],
      "source": [
        "import sys\n",
        "\n",
        "IN_COLAB = \"google.colab\" in sys.modules\n",
        "IN_COLAB"
      ]
    },
    {
      "cell_type": "code",
      "execution_count": 3,
      "metadata": {
        "colab": {
          "base_uri": "https://localhost:8080/"
        },
        "id": "kTj3VoF5B_K8",
        "outputId": "f69732d1-68a1-4ca6-8b92-487befef101c"
      },
      "outputs": [
        {
          "name": "stdout",
          "output_type": "stream",
          "text": [
            "Drive already mounted at /content/drive; to attempt to forcibly remount, call drive.mount(\"/content/drive\", force_remount=True).\n"
          ]
        }
      ],
      "source": [
        "if IN_COLAB:\n",
        "    from google.colab import drive\n",
        "\n",
        "    drive.mount(\"/content/drive\")"
      ]
    },
    {
      "cell_type": "code",
      "execution_count": 4,
      "metadata": {
        "colab": {
          "base_uri": "https://localhost:8080/"
        },
        "id": "7HLOIYWbCCC4",
        "outputId": "df766702-b965-484c-8c51-ad8fcd09720b"
      },
      "outputs": [
        {
          "name": "stdout",
          "output_type": "stream",
          "text": [
            "/content/drive/MyDrive/assignment 5\n"
          ]
        }
      ],
      "source": [
        "if IN_COLAB:\n",
        "    # Put here the full path to the folder having your Sprint project code\n",
        "    # e.g. \"/content/drive/MyDrive/assignment\"\n",
        "    ROOT_DIR = \"/content/drive/MyDrive/assignment 5\"\n",
        "    %cd $ROOT_DIR"
      ]
    },
    {
      "cell_type": "code",
      "execution_count": 5,
      "metadata": {
        "colab": {
          "base_uri": "https://localhost:8080/"
        },
        "id": "1DUkVE0hCUy0",
        "outputId": "7a89b19a-586b-4cc1-eeb5-591f88cdddf1"
      },
      "outputs": [
        {
          "name": "stdout",
          "output_type": "stream",
          "text": [
            "Looking in indexes: https://pypi.org/simple, https://us-python.pkg.dev/colab-wheels/public/simple/\n",
            "Requirement already satisfied: beautifulsoup4==4.12.2 in /usr/local/lib/python3.10/dist-packages (from -r requirements.txt (line 1)) (4.12.2)\n",
            "Requirement already satisfied: black[jupyter]==23.3.0 in /usr/local/lib/python3.10/dist-packages (from -r requirements.txt (line 2)) (23.3.0)\n",
            "Requirement already satisfied: flake8==6.0.0 in /usr/local/lib/python3.10/dist-packages (from -r requirements.txt (line 3)) (6.0.0)\n",
            "Requirement already satisfied: gdown==4.7.1 in /usr/local/lib/python3.10/dist-packages (from -r requirements.txt (line 4)) (4.7.1)\n",
            "Requirement already satisfied: gensim==4.3.1 in /usr/local/lib/python3.10/dist-packages (from -r requirements.txt (line 5)) (4.3.1)\n",
            "Requirement already satisfied: isort==5.12.0 in /usr/local/lib/python3.10/dist-packages (from -r requirements.txt (line 6)) (5.12.0)\n",
            "Requirement already satisfied: matplotlib==3.7.1 in /usr/local/lib/python3.10/dist-packages (from -r requirements.txt (line 7)) (3.7.1)\n",
            "Requirement already satisfied: nltk==3.8.1 in /usr/local/lib/python3.10/dist-packages (from -r requirements.txt (line 8)) (3.8.1)\n",
            "Requirement already satisfied: numpy==1.24.2 in /usr/local/lib/python3.10/dist-packages (from -r requirements.txt (line 9)) (1.24.2)\n",
            "Requirement already satisfied: pandas==2.0.0 in /usr/local/lib/python3.10/dist-packages (from -r requirements.txt (line 10)) (2.0.0)\n",
            "Requirement already satisfied: pytest==7.3.0 in /usr/local/lib/python3.10/dist-packages (from -r requirements.txt (line 11)) (7.3.0)\n",
            "Requirement already satisfied: scikit_learn==1.2.2 in /usr/local/lib/python3.10/dist-packages (from -r requirements.txt (line 12)) (1.2.2)\n",
            "Requirement already satisfied: spacy==3.5.2 in /usr/local/lib/python3.10/dist-packages (from -r requirements.txt (line 13)) (3.5.2)\n",
            "Requirement already satisfied: soupsieve>1.2 in /usr/local/lib/python3.10/dist-packages (from beautifulsoup4==4.12.2->-r requirements.txt (line 1)) (2.4.1)\n",
            "Requirement already satisfied: click>=8.0.0 in /usr/local/lib/python3.10/dist-packages (from black[jupyter]==23.3.0->-r requirements.txt (line 2)) (8.1.3)\n",
            "Requirement already satisfied: mypy-extensions>=0.4.3 in /usr/local/lib/python3.10/dist-packages (from black[jupyter]==23.3.0->-r requirements.txt (line 2)) (1.0.0)\n",
            "Requirement already satisfied: packaging>=22.0 in /usr/local/lib/python3.10/dist-packages (from black[jupyter]==23.3.0->-r requirements.txt (line 2)) (23.1)\n",
            "Requirement already satisfied: pathspec>=0.9.0 in /usr/local/lib/python3.10/dist-packages (from black[jupyter]==23.3.0->-r requirements.txt (line 2)) (0.11.1)\n",
            "Requirement already satisfied: platformdirs>=2 in /usr/local/lib/python3.10/dist-packages (from black[jupyter]==23.3.0->-r requirements.txt (line 2)) (3.3.0)\n",
            "Requirement already satisfied: tomli>=1.1.0 in /usr/local/lib/python3.10/dist-packages (from black[jupyter]==23.3.0->-r requirements.txt (line 2)) (2.0.1)\n",
            "Requirement already satisfied: ipython>=7.8.0 in /usr/local/lib/python3.10/dist-packages (from black[jupyter]==23.3.0->-r requirements.txt (line 2)) (7.34.0)\n",
            "Requirement already satisfied: tokenize-rt>=3.2.0 in /usr/local/lib/python3.10/dist-packages (from black[jupyter]==23.3.0->-r requirements.txt (line 2)) (5.0.0)\n",
            "Requirement already satisfied: mccabe<0.8.0,>=0.7.0 in /usr/local/lib/python3.10/dist-packages (from flake8==6.0.0->-r requirements.txt (line 3)) (0.7.0)\n",
            "Requirement already satisfied: pycodestyle<2.11.0,>=2.10.0 in /usr/local/lib/python3.10/dist-packages (from flake8==6.0.0->-r requirements.txt (line 3)) (2.10.0)\n",
            "Requirement already satisfied: pyflakes<3.1.0,>=3.0.0 in /usr/local/lib/python3.10/dist-packages (from flake8==6.0.0->-r requirements.txt (line 3)) (3.0.1)\n",
            "Requirement already satisfied: filelock in /usr/local/lib/python3.10/dist-packages (from gdown==4.7.1->-r requirements.txt (line 4)) (3.12.0)\n",
            "Requirement already satisfied: requests[socks] in /usr/local/lib/python3.10/dist-packages (from gdown==4.7.1->-r requirements.txt (line 4)) (2.27.1)\n",
            "Requirement already satisfied: six in /usr/local/lib/python3.10/dist-packages (from gdown==4.7.1->-r requirements.txt (line 4)) (1.16.0)\n",
            "Requirement already satisfied: tqdm in /usr/local/lib/python3.10/dist-packages (from gdown==4.7.1->-r requirements.txt (line 4)) (4.65.0)\n",
            "Requirement already satisfied: scipy>=1.7.0 in /usr/local/lib/python3.10/dist-packages (from gensim==4.3.1->-r requirements.txt (line 5)) (1.10.1)\n",
            "Requirement already satisfied: smart-open>=1.8.1 in /usr/local/lib/python3.10/dist-packages (from gensim==4.3.1->-r requirements.txt (line 5)) (6.3.0)\n",
            "Requirement already satisfied: contourpy>=1.0.1 in /usr/local/lib/python3.10/dist-packages (from matplotlib==3.7.1->-r requirements.txt (line 7)) (1.0.7)\n",
            "Requirement already satisfied: cycler>=0.10 in /usr/local/lib/python3.10/dist-packages (from matplotlib==3.7.1->-r requirements.txt (line 7)) (0.11.0)\n",
            "Requirement already satisfied: fonttools>=4.22.0 in /usr/local/lib/python3.10/dist-packages (from matplotlib==3.7.1->-r requirements.txt (line 7)) (4.39.3)\n",
            "Requirement already satisfied: kiwisolver>=1.0.1 in /usr/local/lib/python3.10/dist-packages (from matplotlib==3.7.1->-r requirements.txt (line 7)) (1.4.4)\n",
            "Requirement already satisfied: pillow>=6.2.0 in /usr/local/lib/python3.10/dist-packages (from matplotlib==3.7.1->-r requirements.txt (line 7)) (8.4.0)\n",
            "Requirement already satisfied: pyparsing>=2.3.1 in /usr/local/lib/python3.10/dist-packages (from matplotlib==3.7.1->-r requirements.txt (line 7)) (3.0.9)\n",
            "Requirement already satisfied: python-dateutil>=2.7 in /usr/local/lib/python3.10/dist-packages (from matplotlib==3.7.1->-r requirements.txt (line 7)) (2.8.2)\n",
            "Requirement already satisfied: joblib in /usr/local/lib/python3.10/dist-packages (from nltk==3.8.1->-r requirements.txt (line 8)) (1.2.0)\n",
            "Requirement already satisfied: regex>=2021.8.3 in /usr/local/lib/python3.10/dist-packages (from nltk==3.8.1->-r requirements.txt (line 8)) (2022.10.31)\n",
            "Requirement already satisfied: pytz>=2020.1 in /usr/local/lib/python3.10/dist-packages (from pandas==2.0.0->-r requirements.txt (line 10)) (2022.7.1)\n",
            "Requirement already satisfied: tzdata>=2022.1 in /usr/local/lib/python3.10/dist-packages (from pandas==2.0.0->-r requirements.txt (line 10)) (2023.3)\n",
            "Requirement already satisfied: iniconfig in /usr/local/lib/python3.10/dist-packages (from pytest==7.3.0->-r requirements.txt (line 11)) (2.0.0)\n",
            "Requirement already satisfied: pluggy<2.0,>=0.12 in /usr/local/lib/python3.10/dist-packages (from pytest==7.3.0->-r requirements.txt (line 11)) (1.0.0)\n",
            "Requirement already satisfied: exceptiongroup>=1.0.0rc8 in /usr/local/lib/python3.10/dist-packages (from pytest==7.3.0->-r requirements.txt (line 11)) (1.1.1)\n",
            "Requirement already satisfied: threadpoolctl>=2.0.0 in /usr/local/lib/python3.10/dist-packages (from scikit_learn==1.2.2->-r requirements.txt (line 12)) (3.1.0)\n",
            "Requirement already satisfied: spacy-legacy<3.1.0,>=3.0.11 in /usr/local/lib/python3.10/dist-packages (from spacy==3.5.2->-r requirements.txt (line 13)) (3.0.12)\n",
            "Requirement already satisfied: spacy-loggers<2.0.0,>=1.0.0 in /usr/local/lib/python3.10/dist-packages (from spacy==3.5.2->-r requirements.txt (line 13)) (1.0.4)\n",
            "Requirement already satisfied: murmurhash<1.1.0,>=0.28.0 in /usr/local/lib/python3.10/dist-packages (from spacy==3.5.2->-r requirements.txt (line 13)) (1.0.9)\n",
            "Requirement already satisfied: cymem<2.1.0,>=2.0.2 in /usr/local/lib/python3.10/dist-packages (from spacy==3.5.2->-r requirements.txt (line 13)) (2.0.7)\n",
            "Requirement already satisfied: preshed<3.1.0,>=3.0.2 in /usr/local/lib/python3.10/dist-packages (from spacy==3.5.2->-r requirements.txt (line 13)) (3.0.8)\n",
            "Requirement already satisfied: thinc<8.2.0,>=8.1.8 in /usr/local/lib/python3.10/dist-packages (from spacy==3.5.2->-r requirements.txt (line 13)) (8.1.9)\n",
            "Requirement already satisfied: wasabi<1.2.0,>=0.9.1 in /usr/local/lib/python3.10/dist-packages (from spacy==3.5.2->-r requirements.txt (line 13)) (1.1.1)\n",
            "Requirement already satisfied: srsly<3.0.0,>=2.4.3 in /usr/local/lib/python3.10/dist-packages (from spacy==3.5.2->-r requirements.txt (line 13)) (2.4.6)\n",
            "Requirement already satisfied: catalogue<2.1.0,>=2.0.6 in /usr/local/lib/python3.10/dist-packages (from spacy==3.5.2->-r requirements.txt (line 13)) (2.0.8)\n",
            "Requirement already satisfied: typer<0.8.0,>=0.3.0 in /usr/local/lib/python3.10/dist-packages (from spacy==3.5.2->-r requirements.txt (line 13)) (0.7.0)\n",
            "Requirement already satisfied: pathy>=0.10.0 in /usr/local/lib/python3.10/dist-packages (from spacy==3.5.2->-r requirements.txt (line 13)) (0.10.1)\n",
            "Requirement already satisfied: pydantic!=1.8,!=1.8.1,<1.11.0,>=1.7.4 in /usr/local/lib/python3.10/dist-packages (from spacy==3.5.2->-r requirements.txt (line 13)) (1.10.7)\n",
            "Requirement already satisfied: jinja2 in /usr/local/lib/python3.10/dist-packages (from spacy==3.5.2->-r requirements.txt (line 13)) (3.1.2)\n",
            "Requirement already satisfied: setuptools in /usr/local/lib/python3.10/dist-packages (from spacy==3.5.2->-r requirements.txt (line 13)) (67.7.2)\n",
            "Requirement already satisfied: langcodes<4.0.0,>=3.2.0 in /usr/local/lib/python3.10/dist-packages (from spacy==3.5.2->-r requirements.txt (line 13)) (3.3.0)\n",
            "Requirement already satisfied: jedi>=0.16 in /usr/local/lib/python3.10/dist-packages (from ipython>=7.8.0->black[jupyter]==23.3.0->-r requirements.txt (line 2)) (0.18.2)\n",
            "Requirement already satisfied: decorator in /usr/local/lib/python3.10/dist-packages (from ipython>=7.8.0->black[jupyter]==23.3.0->-r requirements.txt (line 2)) (4.4.2)\n",
            "Requirement already satisfied: pickleshare in /usr/local/lib/python3.10/dist-packages (from ipython>=7.8.0->black[jupyter]==23.3.0->-r requirements.txt (line 2)) (0.7.5)\n",
            "Requirement already satisfied: traitlets>=4.2 in /usr/local/lib/python3.10/dist-packages (from ipython>=7.8.0->black[jupyter]==23.3.0->-r requirements.txt (line 2)) (5.7.1)\n",
            "Requirement already satisfied: prompt-toolkit!=3.0.0,!=3.0.1,<3.1.0,>=2.0.0 in /usr/local/lib/python3.10/dist-packages (from ipython>=7.8.0->black[jupyter]==23.3.0->-r requirements.txt (line 2)) (3.0.38)\n",
            "Requirement already satisfied: pygments in /usr/local/lib/python3.10/dist-packages (from ipython>=7.8.0->black[jupyter]==23.3.0->-r requirements.txt (line 2)) (2.14.0)\n",
            "Requirement already satisfied: backcall in /usr/local/lib/python3.10/dist-packages (from ipython>=7.8.0->black[jupyter]==23.3.0->-r requirements.txt (line 2)) (0.2.0)\n",
            "Requirement already satisfied: matplotlib-inline in /usr/local/lib/python3.10/dist-packages (from ipython>=7.8.0->black[jupyter]==23.3.0->-r requirements.txt (line 2)) (0.1.6)\n",
            "Requirement already satisfied: pexpect>4.3 in /usr/local/lib/python3.10/dist-packages (from ipython>=7.8.0->black[jupyter]==23.3.0->-r requirements.txt (line 2)) (4.8.0)\n",
            "Requirement already satisfied: typing-extensions>=4.2.0 in /usr/local/lib/python3.10/dist-packages (from pydantic!=1.8,!=1.8.1,<1.11.0,>=1.7.4->spacy==3.5.2->-r requirements.txt (line 13)) (4.5.0)\n",
            "Requirement already satisfied: urllib3<1.27,>=1.21.1 in /usr/local/lib/python3.10/dist-packages (from requests[socks]->gdown==4.7.1->-r requirements.txt (line 4)) (1.26.15)\n",
            "Requirement already satisfied: certifi>=2017.4.17 in /usr/local/lib/python3.10/dist-packages (from requests[socks]->gdown==4.7.1->-r requirements.txt (line 4)) (2022.12.7)\n",
            "Requirement already satisfied: charset-normalizer~=2.0.0 in /usr/local/lib/python3.10/dist-packages (from requests[socks]->gdown==4.7.1->-r requirements.txt (line 4)) (2.0.12)\n",
            "Requirement already satisfied: idna<4,>=2.5 in /usr/local/lib/python3.10/dist-packages (from requests[socks]->gdown==4.7.1->-r requirements.txt (line 4)) (3.4)\n",
            "Requirement already satisfied: blis<0.8.0,>=0.7.8 in /usr/local/lib/python3.10/dist-packages (from thinc<8.2.0,>=8.1.8->spacy==3.5.2->-r requirements.txt (line 13)) (0.7.9)\n",
            "Requirement already satisfied: confection<1.0.0,>=0.0.1 in /usr/local/lib/python3.10/dist-packages (from thinc<8.2.0,>=8.1.8->spacy==3.5.2->-r requirements.txt (line 13)) (0.0.4)\n",
            "Requirement already satisfied: MarkupSafe>=2.0 in /usr/local/lib/python3.10/dist-packages (from jinja2->spacy==3.5.2->-r requirements.txt (line 13)) (2.1.2)\n",
            "Requirement already satisfied: PySocks!=1.5.7,>=1.5.6 in /usr/local/lib/python3.10/dist-packages (from requests[socks]->gdown==4.7.1->-r requirements.txt (line 4)) (1.7.1)\n",
            "Requirement already satisfied: parso<0.9.0,>=0.8.0 in /usr/local/lib/python3.10/dist-packages (from jedi>=0.16->ipython>=7.8.0->black[jupyter]==23.3.0->-r requirements.txt (line 2)) (0.8.3)\n",
            "Requirement already satisfied: ptyprocess>=0.5 in /usr/local/lib/python3.10/dist-packages (from pexpect>4.3->ipython>=7.8.0->black[jupyter]==23.3.0->-r requirements.txt (line 2)) (0.7.0)\n",
            "Requirement already satisfied: wcwidth in /usr/local/lib/python3.10/dist-packages (from prompt-toolkit!=3.0.0,!=3.0.1,<3.1.0,>=2.0.0->ipython>=7.8.0->black[jupyter]==23.3.0->-r requirements.txt (line 2)) (0.2.6)\n"
          ]
        }
      ],
      "source": [
        "if IN_COLAB:\n",
        "    # This will make sure you have installed all the proper dependencies\n",
        "    # Instal dependencies\n",
        "    !pip install -r requirements.txt"
      ]
    },
    {
      "attachments": {},
      "cell_type": "markdown",
      "metadata": {},
      "source": [
        "-----------------------------------------------------------------------------------------------------------------------------------------------------"
      ]
    },
    {
      "cell_type": "code",
      "execution_count": 6,
      "metadata": {
        "colab": {
          "base_uri": "https://localhost:8080/"
        },
        "id": "SnXzT44qBth7",
        "outputId": "3f293ea6-b5c7-46ab-cdca-84eeea579aec"
      },
      "outputs": [
        {
          "name": "stderr",
          "output_type": "stream",
          "text": [
            "[nltk_data] Downloading package stopwords to /root/nltk_data...\n",
            "[nltk_data]   Package stopwords is already up-to-date!\n",
            "[nltk_data] Downloading package punkt to /root/nltk_data...\n",
            "[nltk_data]   Package punkt is already up-to-date!\n"
          ]
        }
      ],
      "source": [
        "from src import data_utils\n",
        "import os\n",
        "import sys\n",
        "import numpy as np\n",
        "from gensim.models import Word2Vec\n",
        "import nltk\n",
        "\n",
        "sys.path.append(os.path.dirname(os.getcwd()))\n",
        "\n",
        "from src import word2vec\n",
        "from src import evaluation\n",
        "from src import text_normalizer\n",
        "\n",
        "np.random.seed(42)\n",
        "\n",
        "train, test = data_utils.get_datasets()"
      ]
    },
    {
      "cell_type": "code",
      "execution_count": 7,
      "metadata": {
        "id": "baEFXvG-BtiY"
      },
      "outputs": [],
      "source": [
        "# TODO Complete in this cell: Complete the function `split_data()` but not here in\n",
        "# the notebook, do it in the python module called `data_utils.py`.\n",
        "# Then make sure this code runs without errors.\n",
        "X_train, y_train, X_test, y_test = data_utils.split_data(train, test)"
      ]
    },
    {
      "attachments": {},
      "cell_type": "markdown",
      "metadata": {
        "id": "M4SOofBj_0KM"
      },
      "source": [
        "---\n",
        "## 2. Normalize the data\n",
        "\n",
        "**Create the following functions but not here in the notebook, do it in the python script called `text_normalizer.py` and import them into the notebook (this way you can build your own NLP preprocessing library). In fact, the structure of the functions is already written, you must complete them with the code that you consider necessary.**\n",
        "\n",
        "- `remove_html_tags(text):` to remove all HTML tags that may be present in text.\n",
        "- `remove_accented_chars(text):` to remove accented characters from text\n",
        "- `expand_contractions(text):` to expand contractions of the type, \"don't\" to \"do not\". The contractions are already defined in the \"contractions.py\" file.\n",
        "- `lemmatize_text(text):` to lemmatize text.\n",
        "- `stem_text(text):` to apply stemming (NLTK's PorterStemmer) on text.\n",
        "- `remove_special_chars(text):` to remove special characters from text.\n",
        "- `remove_special_chars(text, remove_digits=True):` to remove numbers, note that it is the same function to remove special characters with the addition of an argument that enables or disables the removal of numbers.\n",
        "- `remove_stopwords(text, stopwords=stop_words):` to remove stopwords from text.\n",
        "- `remove_extra_new_lines(text):` to remove extra newlines from text.\n",
        "- `remove_extra_whitespace(text):` to remove extra whitespaces from text.\n",
        "\n",
        "If you want to add more features that would be great, for example you could start by removing emojis, using different stemming algorithms, etc. The more functions you have the better, remember that the texts are very varied and the preprocessing depends a lot on the source of our data.\n",
        "\n",
        "To apply each of the functions you created and pre-process the dataset, you must use the `normalize_corpus()` function of the `text_normalizer.py` script. In this method each of the functions you wrote is called, in fact you must enable or disable what you consider necessary (at this point we leave it to your free choice, for example, you can lemmatize or apply stemming or directly not apply any of the two and so on with the rest, but that is your choice), this function simply groups the previous ones for a more simplified use."
      ]
    },
    {
      "cell_type": "code",
      "execution_count": 9,
      "metadata": {
        "id": "H4rI96sr_0KN"
      },
      "outputs": [],
      "source": [
        "stop_words = nltk.corpus.stopwords.words(\"english\")"
      ]
    },
    {
      "cell_type": "code",
      "execution_count": 10,
      "metadata": {
        "colab": {
          "base_uri": "https://localhost:8080/"
        },
        "id": "rJtdCt9d_0KN",
        "outputId": "9f266d61-98aa-4071-f1a7-f3857ae1a581"
      },
      "outputs": [
        {
          "name": "stderr",
          "output_type": "stream",
          "text": [
            "/content/drive/MyDrive/assignment 5/src/text_normalizer.py:38: MarkupResemblesLocatorWarning: The input looks more like a filename than markup. You may want to open this file and pass the filehandle into Beautiful Soup.\n",
            "  soup = BeautifulSoup(text, \"html.parser\")\n"
          ]
        }
      ],
      "source": [
        "# TODO: Complete all the functions with the `TODO` comment inside the\n",
        "# module `text_normalizer.py`. Then make sure this code runs without errors.\n",
        "# You can change the parameters for `normalize_corpus()` if you want.\n",
        "norm_train_reviews = text_normalizer.normalize_corpus(X_train, stopwords=stop_words)\n",
        "norm_test_reviews = text_normalizer.normalize_corpus(X_test, stopwords=stop_words)"
      ]
    },
    {
      "attachments": {},
      "cell_type": "markdown",
      "metadata": {
        "id": "uVKvNzkw_0KO"
      },
      "source": [
        "**(\\*) Functions will be checked using unit tests.**"
      ]
    },
    {
      "attachments": {},
      "cell_type": "markdown",
      "metadata": {
        "id": "ilBNdrN1_0KP"
      },
      "source": [
        "---\n",
        "## 3. Feature Engineering\n",
        "\n",
        "You already have the pre-processed data, now you must vectorize them, because remember that the models only understand numbers. At this stage choose whether you want to vectorize with BoW or with TF-IDF. Later we will train our own embedding but for now we go with a more \"classic\" vectorization.\n"
      ]
    },
    {
      "cell_type": "code",
      "execution_count": 22,
      "metadata": {
        "id": "aDAsFB-L_0KP"
      },
      "outputs": [],
      "source": [
        "# TODO Complete in this cell: Use BoW or TF-IDF to vectorize your data.\n",
        "# Remember to call the `fit()` method only on the train dataset!\n",
        "# Assign the features to the variables `train_features` and `test_features`.\n",
        "\n",
        "# Import required libraries\n",
        "from sklearn.feature_extraction.text import TfidfVectorizer\n",
        "# Create an object\n",
        "vectorizer = TfidfVectorizer()\n",
        "\n",
        "# Generating output for TF_IDF\n",
        "\n",
        "train_features = vectorizer.fit_transform(norm_train_reviews)\n",
        "test_features = vectorizer.transform(norm_test_reviews)"
      ]
    },
    {
      "attachments": {},
      "cell_type": "markdown",
      "metadata": {
        "id": "pVEP8DA4_0KQ"
      },
      "source": [
        "## 4. Modeling and Performance Evaluation\n",
        "\n",
        "As we said at the beginning, what interests us most in this part is pre-processing. However, we must train a model, so choose a model of your choice (obviously a classification model, given the problem we are facing) and apply everything we learned. Also if you want you can try several models, the more models you use and know better!\n",
        "\n",
        "**In addition to training the model we ask you to show:**\n",
        "\n",
        "- `Precision`\n",
        "- `Recall`\n",
        "- `F1-Score`\n",
        "- `Classification Report`\n",
        "- `Confusion Matrix`\n",
        "\n",
        "**To do this you must complete the `get_performance` function of the `evaluation.py` script.**\n",
        "\n",
        "**Also, you must complete the `plot_roc` function so that it can show:**\n",
        "\n",
        "- `ROC Curve`\n",
        "- `Obtain the ROC-AUC value (later we will do a small minimum performance check with this value)`"
      ]
    },
    {
      "cell_type": "code",
      "execution_count": 23,
      "metadata": {
        "id": "aCiCqub0_0KQ"
      },
      "outputs": [],
      "source": [
        "# TODO Complete in this cell: Create and train your own model.\n",
        "# Having the model trained, use it to make predictions on the test dataset.\n",
        "# Assign the predictions to the variable `model_predictions`, it will be used in the\n",
        "# following cell to evaluate the model performance.\n",
        "from sklearn.linear_model import LogisticRegression\n",
        "\n",
        "baseline_model = LogisticRegression()\n",
        "\n",
        "baseline_model.fit(train_features, y_train)\n",
        "model_predictions = baseline_model.predict(test_features)"
      ]
    },
    {
      "cell_type": "code",
      "execution_count": 11,
      "metadata": {
        "colab": {
          "base_uri": "https://localhost:8080/"
        },
        "id": "Ykz1bOKm_0KR",
        "outputId": "90254bbf-79b2-4b98-8cb7-f8a5240f83cc"
      },
      "outputs": [
        {
          "name": "stdout",
          "output_type": "stream",
          "text": [
            "Model Performance metrics:\n",
            "------------------------------\n",
            "Accuracy: 0.88076\n",
            "Precision: 0.8794546759148529\n",
            "Recall: 0.88248\n",
            "F1 Score: 0.8809647406460887\n",
            "\n",
            "Model Classification report:\n",
            "------------------------------\n",
            "              precision    recall  f1-score   support\n",
            "\n",
            "           0       0.88      0.88      0.88     12500\n",
            "           1       0.88      0.88      0.88     12500\n",
            "\n",
            "    accuracy                           0.88     25000\n",
            "   macro avg       0.88      0.88      0.88     25000\n",
            "weighted avg       0.88      0.88      0.88     25000\n",
            "\n",
            "\n",
            "Prediction Confusion Matrix:\n",
            "------------------------------\n",
            "       0      1\n",
            "0  10988   1512\n",
            "1   1469  11031\n"
          ]
        }
      ],
      "source": [
        "accuracy, precision, recall, f1_score = evaluation.get_performance(\n",
        "    model_predictions, y_test\n",
        ")"
      ]
    },
    {
      "cell_type": "code",
      "execution_count": 12,
      "metadata": {
        "colab": {
          "base_uri": "https://localhost:8080/",
          "height": 504
        },
        "id": "00Y0iuS-Bti3",
        "outputId": "9506a3ac-310d-44bc-f34a-e063c896d867"
      },
      "outputs": [
        {
          "data": {
            "image/png": "[encoded data removed]",
            "text/plain": [
              "<Figure size 1000x500 with 1 Axes>"
            ]
          },
          "metadata": {},
          "output_type": "display_data"
        },
        {
          "data": {
            "text/plain": [
              "0.951039712"
            ]
          },
          "execution_count": 12,
          "metadata": {},
          "output_type": "execute_result"
        }
      ],
      "source": [
        "evaluation.plot_roc(baseline_model, y_test, test_features)"
      ]
    },
    {
      "attachments": {},
      "cell_type": "markdown",
      "metadata": {
        "id": "2e0KijdMBti5"
      },
      "source": [
        "---\n",
        "\n",
        "## 5. Classifying using K-Means\n",
        "\n",
        "Let use tfidf features computed in last section as vector inputs for kmeans."
      ]
    },
    {
      "cell_type": "code",
      "execution_count": 13,
      "metadata": {
        "colab": {
          "base_uri": "https://localhost:8080/"
        },
        "id": "FvcI6DHcBti6",
        "outputId": "9b2e9cd5-ecd0-46fd-81cf-88c408b432e2"
      },
      "outputs": [
        {
          "name": "stderr",
          "output_type": "stream",
          "text": [
            "/usr/local/lib/python3.10/dist-packages/sklearn/cluster/_kmeans.py:870: FutureWarning: The default value of `n_init` will change from 10 to 'auto' in 1.4. Set the value of `n_init` explicitly to suppress the warning\n",
            "  warnings.warn(\n"
          ]
        },
        {
          "name": "stdout",
          "output_type": "stream",
          "text": [
            "Converged after 26 iterations\n"
          ]
        }
      ],
      "source": [
        "# TODO Complete in this cell: Train the k-means clustering model using `n_clusters=2`.\n",
        "# Having the model trained, use it to make predictions on the test dataset.\n",
        "# Assign the predictions to the variable `kmeans_predictions`, it will be used in the\n",
        "# following cell to evaluate the model performance.\n",
        "from sklearn.cluster import KMeans\n",
        "kmeans = KMeans(n_clusters=2)\n",
        "kmeans.fit(train_features, y_train)\n",
        "print(f\"Converged after {kmeans.n_iter_} iterations\")\n",
        "kmeans_predictions = kmeans.predict(test_features)"
      ]
    },
    {
      "cell_type": "code",
      "execution_count": 14,
      "metadata": {
        "colab": {
          "base_uri": "https://localhost:8080/"
        },
        "id": "8Z14APqEBti9",
        "outputId": "95d679b1-16dc-4d16-be4d-5adbc6765a78"
      },
      "outputs": [
        {
          "name": "stdout",
          "output_type": "stream",
          "text": [
            "Model Performance metrics:\n",
            "------------------------------\n",
            "Accuracy: 0.5744\n",
            "Precision: 0.5526613816534541\n",
            "Recall: 0.7808\n",
            "F1 Score: 0.6472148541114059\n",
            "\n",
            "Model Classification report:\n",
            "------------------------------\n",
            "              precision    recall  f1-score   support\n",
            "\n",
            "           0       0.63      0.37      0.46     12500\n",
            "           1       0.55      0.78      0.65     12500\n",
            "\n",
            "    accuracy                           0.57     25000\n",
            "   macro avg       0.59      0.57      0.56     25000\n",
            "weighted avg       0.59      0.57      0.56     25000\n",
            "\n",
            "\n",
            "Prediction Confusion Matrix:\n",
            "------------------------------\n",
            "      0     1\n",
            "0  4600  7900\n",
            "1  2740  9760\n"
          ]
        }
      ],
      "source": [
        "accuracy, precision, recall, f1_score = evaluation.get_performance(\n",
        "    [1 - el for el in kmeans_predictions], y_test\n",
        ")"
      ]
    },
    {
      "attachments": {},
      "cell_type": "markdown",
      "metadata": {
        "id": "c4pZ2FDV_0KS"
      },
      "source": [
        "---\n",
        "## 6. Feature Engineering with Custom Word Embedding\n",
        "\n",
        "### Tokenize reviews and train your own Word Embedding\n",
        "\n",
        "You are going to have to train your own word embedding, for this we are going to use the __gensim__ library. The only requirement we ask of you is that the $vector\\_size=100$.\n",
        "\n",
        "[Here](https://radimrehurek.com/gensim/models/word2vec.html) you can read Gensim's Word2Vec documentation so you can train your own embedding, using the review data as a corpus.\n",
        "\n",
        "As a previous step to training your word embedding you must tokenize the corpus, this may take a bit depending on the size of the dataset and the tokenizer we use, if you want you can try the NLTK tokenizer called `ToktokTokenizer`, which turns out to be a little faster (we hope that this recommendation does not bias your work, try and use the ones you want)"
      ]
    },
    {
      "cell_type": "code",
      "execution_count": 16,
      "metadata": {
        "id": "Nhx6o1pJ_0KS"
      },
      "outputs": [],
      "source": [
        "# TODO Complete in this cell: Tokenize your text corpus and use them to train\n",
        "# a Word2Vec model.\n",
        "import spacy\n",
        "# Load SpaCy English model\n",
        "nlp = spacy.load(\"en_core_web_sm\")\n",
        "# TODO: Create and store here the tokenized train and test data.\n",
        "tokenized_train = [[token.text.lower() for token in doc] for doc in nlp.pipe(norm_train_reviews)]\n",
        "tokenized_test = [[token.text.lower() for token in doc] for doc in nlp.pipe(norm_test_reviews)]\n",
        "\n",
        "# TODO: Train your Word2Vec model and assign it to `model_w2v`.\n",
        "# The output model vector size (w2v_vector_size) is set by default to 100,\n",
        "# you can change it if you want.\n",
        "w2v_vector_size = 100\n",
        "model_w2v = Word2Vec(tokenized_train, vector_size=w2v_vector_size, window=5, min_count=1)"
      ]
    },
    {
      "attachments": {},
      "cell_type": "markdown",
      "metadata": {
        "id": "1yybEN7P_0KS"
      },
      "source": [
        "### Generate averaged word vector features\n",
        "\n",
        "Once the embedding has been trained, we must use it. Remember that embedding will convert each word you pass to it into a vector of a given dimension (in our case $vector\\_size=100$). So in order to obtain a vector for each review, you must average the vectors of all the words that are part of the same review.\n",
        "\n",
        "The function must have the following form:\n",
        "* `vectorizer(corpus, model, num_features=100)`\n",
        "\n",
        "\n",
        "Where:\n",
        "* `corpus:` corresponds to the entire dataset, in this way we obtain an average vector for each review, with a single call to the function.\n",
        "* `model:` is your trained model.\n",
        "* `num_features:` the dimension of the output vector of your embedding (remember that in our case we set this value to 100).\n",
        "\n",
        "To do this you must complete the `vectorize` function of the `word2vec.py` module."
      ]
    },
    {
      "cell_type": "code",
      "execution_count": 17,
      "metadata": {
        "id": "DN7oCLhd_0KT"
      },
      "outputs": [],
      "source": [
        "# TODO: Make sure you have completed the `vectorizer()` function from\n",
        "# word2vec.py module.\n",
        "# You don't need to change this code, just make it run without errors.\n",
        "w2v_train_features = word2vec.vectorizer(\n",
        "    corpus=tokenized_train, model=model_w2v, num_features=w2v_vector_size\n",
        ")\n",
        "w2v_test_features = word2vec.vectorizer(\n",
        "    corpus=tokenized_test, model=model_w2v, num_features=w2v_vector_size\n",
        ")\n"
      ]
    },
    {
      "attachments": {},
      "cell_type": "markdown",
      "metadata": {
        "id": "Ekf7XrPd_0KU"
      },
      "source": [
        "### Modeling\n",
        "\n",
        "Finally train a new model, it can be the same one you used before and compare the results you got using BoW/TF-IDF and Word2Vec.\n",
        "\n",
        "In addition to training the model we ask you to show:\n",
        "\n",
        "* `Accuracy`\n",
        "* `Recall`\n",
        "* `F1-Score`\n",
        "* `Classification Report`\n",
        "* `Confusion Matrix`\n",
        "* `ROC Curve`\n",
        "* `Obtain the ROC-AUC value (later we will do a small minimum performance check with this value)`"
      ]
    },
    {
      "cell_type": "code",
      "execution_count": 18,
      "metadata": {
        "colab": {
          "base_uri": "https://localhost:8080/"
        },
        "id": "mxYRc-_8_0KU",
        "outputId": "2892a93e-1dda-4b32-904e-ce82529d5bf2"
      },
      "outputs": [
        {
          "name": "stderr",
          "output_type": "stream",
          "text": [
            "/usr/local/lib/python3.10/dist-packages/sklearn/linear_model/_logistic.py:458: ConvergenceWarning: lbfgs failed to converge (status=1):\n",
            "STOP: TOTAL NO. of ITERATIONS REACHED LIMIT.\n",
            "\n",
            "Increase the number of iterations (max_iter) or scale the data as shown in:\n",
            "    https://scikit-learn.org/stable/modules/preprocessing.html\n",
            "Please also refer to the documentation for alternative solver options:\n",
            "    https://scikit-learn.org/stable/modules/linear_model.html#logistic-regression\n",
            "  n_iter_i = _check_optimize_result(\n"
          ]
        }
      ],
      "source": [
        "# TODO Complete in this cell: Train and choose the best model for the task.\n",
        "# Assign this model to the `best_model` variable.\n",
        "w2v_logistic = LogisticRegression()\n",
        "w2v_logistic.fit(w2v_train_features, y_train)\n",
        "w2v_predictions = w2v_logistic.predict(w2v_test_features)"
      ]
    },
    {
      "cell_type": "code",
      "execution_count": 19,
      "metadata": {
        "colab": {
          "base_uri": "https://localhost:8080/"
        },
        "id": "aeFGjvLW_0KU",
        "outputId": "de8c8587-d7b0-4edd-867c-2c662fb3ef48"
      },
      "outputs": [
        {
          "name": "stdout",
          "output_type": "stream",
          "text": [
            "Model Performance metrics:\n",
            "------------------------------\n",
            "Accuracy: 0.84268\n",
            "Precision: 0.8388040813098158\n",
            "Recall: 0.8484\n",
            "F1 Score: 0.8435747524161795\n",
            "\n",
            "Model Classification report:\n",
            "------------------------------\n",
            "              precision    recall  f1-score   support\n",
            "\n",
            "           0       0.85      0.84      0.84     12500\n",
            "           1       0.84      0.85      0.84     12500\n",
            "\n",
            "    accuracy                           0.84     25000\n",
            "   macro avg       0.84      0.84      0.84     25000\n",
            "weighted avg       0.84      0.84      0.84     25000\n",
            "\n",
            "\n",
            "Prediction Confusion Matrix:\n",
            "------------------------------\n",
            "       0      1\n",
            "0  10462   2038\n",
            "1   1895  10605\n"
          ]
        }
      ],
      "source": [
        "# TODO: Use the `get_performance()` function from `evaluation.py` module to show\n",
        "# the model performance.\n",
        "accuracy, precision, recall, f1_score = evaluation.get_performance(\n",
        "    w2v_predictions, y_test\n",
        ")"
      ]
    },
    {
      "cell_type": "code",
      "execution_count": 20,
      "metadata": {
        "colab": {
          "base_uri": "https://localhost:8080/",
          "height": 504
        },
        "id": "pes1qmmJ_0KU",
        "outputId": "19c19180-854d-4e70-b583-5dfe5e8824c3",
        "scrolled": true
      },
      "outputs": [
        {
          "data": {
            "image/png": "[encoded data removed]",
            "text/plain": [
              "<Figure size 1000x500 with 1 Axes>"
            ]
          },
          "metadata": {},
          "output_type": "display_data"
        },
        {
          "data": {
            "text/plain": [
              "0.9197618815999999"
            ]
          },
          "execution_count": 20,
          "metadata": {},
          "output_type": "execute_result"
        }
      ],
      "source": [
        "# TODO: Use the `plot_roc()` function from `evaluation.py` module to show\n",
        "# the model ROC curve.\n",
        "evaluation.plot_roc(w2v_logistic, y_test, w2v_test_features)"
      ]
    },
    {
      "attachments": {},
      "cell_type": "markdown",
      "metadata": {
        "id": "8KZdYlRs_0KV"
      },
      "source": [
        "## 7. Predict data\n",
        "\n",
        "- Take your best model\n",
        "- Take `test data` (i.e. the dataset after doing the preprocessing and feature engineering part)\n",
        "- Run the data through your model and save the predictions on the `positive` column in the `test` DataFrame (yeah that we've loaded at the very beginning of this notebook).\n",
        "- You will have to use that model to fill values in the positive column using the model predictions\n",
        "- Save the modified version of the DataFrame with the name (`dataset/movies_review_predict_aai.csv`) and don't forget to submit it alongside the rest of this sprint project code.\n",
        "\n",
        "Let's say your best model is called `logistic_word2vec`, then your code should be exactly this:\n",
        "\n",
        "```python\n",
        "    from src import config\n",
        "    from pathlib import Path\n",
        "    DATASET_TEST_PREDICT = str(Path(config.DATASET_ROOT_PATH) / \"movies_review_predict_aai.csv\")\n",
        "    test_preds = logistic_word2vec.predict_proba(w2v_test_features)[:, 1]\n",
        "    test[\"positive\"] = test_preds\n",
        "    test.to_csv(DATASET_TEST_PREDICT, index=False)\n",
        "```"
      ]
    },
    {
      "cell_type": "code",
      "execution_count": 25,
      "metadata": {
        "id": "dBRbxjZMBtjh"
      },
      "outputs": [],
      "source": [
        "# TODO\n",
        "DATASET_TEST_PREDICT = str(Path(config.DATASET_ROOT_PATH) / \"movies_review_predict_aai.csv\")\n",
        "test_preds = baseline_model.predict_proba(test_features)[:, 1]\n",
        "test[\"positive\"] = test_preds\n",
        "test.to_csv(DATASET_TEST_PREDICT, index=False)\n"
      ]
    },
    {
      "attachments": {},
      "cell_type": "markdown",
      "metadata": {
        "id": "gkopeTCj_0KV"
      },
      "source": [
        "---\n",
        "### OPTIONAL:\n",
        "\n",
        "In our case, we train a word embedding from scratch, which is very good at an educational level, but when applying it to a real problem, we need a lot of data (which is not the case with our problem). Therefore, we invite you to investigate and use one of the `pre-trained Word2Vec models`.\n",
        "\n",
        "If you look for the `Pretrained models` section in this [link](https://radimrehurek.com/gensim/models/word2vec.html), you will find information about the models that Gensim owns."
      ]
    },
    {
      "cell_type": "code",
      "execution_count": null,
      "metadata": {
        "id": "7NVz_U4_Btjm"
      },
      "outputs": [],
      "source": []
    }
  ],
  "metadata": {
    "accelerator": "GPU",
    "anaconda-cloud": {},
    "celltoolbar": "Tags",
    "colab": {
      "gpuType": "T4",
      "provenance": []
    },
    "gpuClass": "standard",
    "kernelspec": {
      "display_name": "Python 3 (ipykernel)",
      "language": "python",
      "name": "python3"
    },
    "language_info": {
      "codemirror_mode": {
        "name": "ipython",
        "version": 3
      },
      "file_extension": ".py",
      "mimetype": "text/x-python",
      "name": "python",
      "nbconvert_exporter": "python",
      "pygments_lexer": "ipython3",
      "version": "3.8.10"
    }
  },
  "nbformat": 4,
  "nbformat_minor": 0
}
